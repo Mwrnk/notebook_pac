{
 "cells": [
  {
   "cell_type": "code",
   "execution_count": 1,
   "metadata": {},
   "outputs": [],
   "source": [
    "import numpy as np\n",
    "import pandas as pd\n",
    "import seaborn as sns\n",
    "import matplotlib.pyplot as plt"
   ]
  },
  {
   "cell_type": "code",
   "execution_count": 2,
   "metadata": {},
   "outputs": [
    {
     "data": {
      "text/html": [
       "<div>\n",
       "<style scoped>\n",
       "    .dataframe tbody tr th:only-of-type {\n",
       "        vertical-align: middle;\n",
       "    }\n",
       "\n",
       "    .dataframe tbody tr th {\n",
       "        vertical-align: top;\n",
       "    }\n",
       "\n",
       "    .dataframe thead th {\n",
       "        text-align: right;\n",
       "    }\n",
       "</style>\n",
       "<table border=\"1\" class=\"dataframe\">\n",
       "  <thead>\n",
       "    <tr style=\"text-align: right;\">\n",
       "      <th></th>\n",
       "      <th>ano</th>\n",
       "      <th>mes</th>\n",
       "      <th>id_esfera_orcamentaria</th>\n",
       "      <th>nome_esfera_orcamentaria</th>\n",
       "      <th>id_natureza_juridica</th>\n",
       "      <th>nome_natureza_juridica</th>\n",
       "      <th>id_resultado_primario</th>\n",
       "      <th>nome_resultado_primario</th>\n",
       "      <th>id_unidade_organizacional_nivel_0</th>\n",
       "      <th>nome_unidade_organizacional_nivel_0</th>\n",
       "      <th>id_unidade_organizacional_nivel_1</th>\n",
       "      <th>nome_unidade_organizacional_nivel_1</th>\n",
       "      <th>id_unidade_organizacional_nivel_2</th>\n",
       "      <th>nome_unidade_organizacional_nivel_2</th>\n",
       "      <th>id_unidade_organizacional_nivel_3</th>\n",
       "      <th>nome_unidade_organizacional_nivel_3</th>\n",
       "      <th>valor_custo_transferencia</th>\n",
       "    </tr>\n",
       "  </thead>\n",
       "  <tbody>\n",
       "    <tr>\n",
       "      <th>0</th>\n",
       "      <td>2015</td>\n",
       "      <td>5</td>\n",
       "      <td>1</td>\n",
       "      <td>ORCAMENTO FISCAL</td>\n",
       "      <td>1</td>\n",
       "      <td>EMPRESA PUBLICA</td>\n",
       "      <td>3</td>\n",
       "      <td>PRIMARIO SEM IMPACTO FISCAL</td>\n",
       "      <td>26</td>\n",
       "      <td>PRESIDENCIA DA REPUBLICA</td>\n",
       "      <td>1988</td>\n",
       "      <td>MINISTERIO DA CIENCIA, TECNOLOGIA E INOVACAO</td>\n",
       "      <td>1</td>\n",
       "      <td>FINANCIADORA DE ESTUDOS E PROJETOS</td>\n",
       "      <td>-9</td>\n",
       "      <td>NAO SE APLICA</td>\n",
       "      <td>2732062.96</td>\n",
       "    </tr>\n",
       "    <tr>\n",
       "      <th>1</th>\n",
       "      <td>2015</td>\n",
       "      <td>1</td>\n",
       "      <td>1</td>\n",
       "      <td>ORCAMENTO FISCAL</td>\n",
       "      <td>1</td>\n",
       "      <td>EMPRESA PUBLICA</td>\n",
       "      <td>6</td>\n",
       "      <td>DESPESA DISCRICIONARIA DECORRENTE DE EMENDA IN...</td>\n",
       "      <td>26</td>\n",
       "      <td>PRESIDENCIA DA REPUBLICA</td>\n",
       "      <td>1988</td>\n",
       "      <td>MINISTERIO DA CIENCIA, TECNOLOGIA E INOVACAO</td>\n",
       "      <td>1</td>\n",
       "      <td>FINANCIADORA DE ESTUDOS E PROJETOS</td>\n",
       "      <td>-9</td>\n",
       "      <td>NAO SE APLICA</td>\n",
       "      <td>3474900.00</td>\n",
       "    </tr>\n",
       "    <tr>\n",
       "      <th>2</th>\n",
       "      <td>2015</td>\n",
       "      <td>8</td>\n",
       "      <td>1</td>\n",
       "      <td>ORCAMENTO FISCAL</td>\n",
       "      <td>1</td>\n",
       "      <td>EMPRESA PUBLICA</td>\n",
       "      <td>6</td>\n",
       "      <td>DESPESA DISCRICIONARIA DECORRENTE DE EMENDA IN...</td>\n",
       "      <td>26</td>\n",
       "      <td>PRESIDENCIA DA REPUBLICA</td>\n",
       "      <td>1988</td>\n",
       "      <td>MINISTERIO DA CIENCIA, TECNOLOGIA E INOVACAO</td>\n",
       "      <td>1</td>\n",
       "      <td>FINANCIADORA DE ESTUDOS E PROJETOS</td>\n",
       "      <td>-9</td>\n",
       "      <td>NAO SE APLICA</td>\n",
       "      <td>19283163.10</td>\n",
       "    </tr>\n",
       "    <tr>\n",
       "      <th>3</th>\n",
       "      <td>2015</td>\n",
       "      <td>7</td>\n",
       "      <td>1</td>\n",
       "      <td>ORCAMENTO FISCAL</td>\n",
       "      <td>1</td>\n",
       "      <td>EMPRESA PUBLICA</td>\n",
       "      <td>3</td>\n",
       "      <td>PRIMARIO SEM IMPACTO FISCAL</td>\n",
       "      <td>26</td>\n",
       "      <td>PRESIDENCIA DA REPUBLICA</td>\n",
       "      <td>1988</td>\n",
       "      <td>MINISTERIO DA CIENCIA, TECNOLOGIA E INOVACAO</td>\n",
       "      <td>1</td>\n",
       "      <td>FINANCIADORA DE ESTUDOS E PROJETOS</td>\n",
       "      <td>-9</td>\n",
       "      <td>NAO SE APLICA</td>\n",
       "      <td>5130042.70</td>\n",
       "    </tr>\n",
       "    <tr>\n",
       "      <th>4</th>\n",
       "      <td>2015</td>\n",
       "      <td>9</td>\n",
       "      <td>1</td>\n",
       "      <td>ORCAMENTO FISCAL</td>\n",
       "      <td>1</td>\n",
       "      <td>EMPRESA PUBLICA</td>\n",
       "      <td>6</td>\n",
       "      <td>DESPESA DISCRICIONARIA DECORRENTE DE EMENDA IN...</td>\n",
       "      <td>26</td>\n",
       "      <td>PRESIDENCIA DA REPUBLICA</td>\n",
       "      <td>1988</td>\n",
       "      <td>MINISTERIO DA CIENCIA, TECNOLOGIA E INOVACAO</td>\n",
       "      <td>1</td>\n",
       "      <td>FINANCIADORA DE ESTUDOS E PROJETOS</td>\n",
       "      <td>-9</td>\n",
       "      <td>NAO SE APLICA</td>\n",
       "      <td>8543458.31</td>\n",
       "    </tr>\n",
       "  </tbody>\n",
       "</table>\n",
       "</div>"
      ],
      "text/plain": [
       "    ano  mes  id_esfera_orcamentaria nome_esfera_orcamentaria  \\\n",
       "0  2015    5                       1         ORCAMENTO FISCAL   \n",
       "1  2015    1                       1         ORCAMENTO FISCAL   \n",
       "2  2015    8                       1         ORCAMENTO FISCAL   \n",
       "3  2015    7                       1         ORCAMENTO FISCAL   \n",
       "4  2015    9                       1         ORCAMENTO FISCAL   \n",
       "\n",
       "   id_natureza_juridica nome_natureza_juridica  id_resultado_primario  \\\n",
       "0                     1        EMPRESA PUBLICA                      3   \n",
       "1                     1        EMPRESA PUBLICA                      6   \n",
       "2                     1        EMPRESA PUBLICA                      6   \n",
       "3                     1        EMPRESA PUBLICA                      3   \n",
       "4                     1        EMPRESA PUBLICA                      6   \n",
       "\n",
       "                             nome_resultado_primario  \\\n",
       "0                        PRIMARIO SEM IMPACTO FISCAL   \n",
       "1  DESPESA DISCRICIONARIA DECORRENTE DE EMENDA IN...   \n",
       "2  DESPESA DISCRICIONARIA DECORRENTE DE EMENDA IN...   \n",
       "3                        PRIMARIO SEM IMPACTO FISCAL   \n",
       "4  DESPESA DISCRICIONARIA DECORRENTE DE EMENDA IN...   \n",
       "\n",
       "   id_unidade_organizacional_nivel_0 nome_unidade_organizacional_nivel_0  \\\n",
       "0                                 26            PRESIDENCIA DA REPUBLICA   \n",
       "1                                 26            PRESIDENCIA DA REPUBLICA   \n",
       "2                                 26            PRESIDENCIA DA REPUBLICA   \n",
       "3                                 26            PRESIDENCIA DA REPUBLICA   \n",
       "4                                 26            PRESIDENCIA DA REPUBLICA   \n",
       "\n",
       "   id_unidade_organizacional_nivel_1  \\\n",
       "0                               1988   \n",
       "1                               1988   \n",
       "2                               1988   \n",
       "3                               1988   \n",
       "4                               1988   \n",
       "\n",
       "            nome_unidade_organizacional_nivel_1  \\\n",
       "0  MINISTERIO DA CIENCIA, TECNOLOGIA E INOVACAO   \n",
       "1  MINISTERIO DA CIENCIA, TECNOLOGIA E INOVACAO   \n",
       "2  MINISTERIO DA CIENCIA, TECNOLOGIA E INOVACAO   \n",
       "3  MINISTERIO DA CIENCIA, TECNOLOGIA E INOVACAO   \n",
       "4  MINISTERIO DA CIENCIA, TECNOLOGIA E INOVACAO   \n",
       "\n",
       "   id_unidade_organizacional_nivel_2 nome_unidade_organizacional_nivel_2  \\\n",
       "0                                  1  FINANCIADORA DE ESTUDOS E PROJETOS   \n",
       "1                                  1  FINANCIADORA DE ESTUDOS E PROJETOS   \n",
       "2                                  1  FINANCIADORA DE ESTUDOS E PROJETOS   \n",
       "3                                  1  FINANCIADORA DE ESTUDOS E PROJETOS   \n",
       "4                                  1  FINANCIADORA DE ESTUDOS E PROJETOS   \n",
       "\n",
       "   id_unidade_organizacional_nivel_3 nome_unidade_organizacional_nivel_3  \\\n",
       "0                                 -9                       NAO SE APLICA   \n",
       "1                                 -9                       NAO SE APLICA   \n",
       "2                                 -9                       NAO SE APLICA   \n",
       "3                                 -9                       NAO SE APLICA   \n",
       "4                                 -9                       NAO SE APLICA   \n",
       "\n",
       "   valor_custo_transferencia  \n",
       "0                 2732062.96  \n",
       "1                 3474900.00  \n",
       "2                19283163.10  \n",
       "3                 5130042.70  \n",
       "4                 8543458.31  "
      ]
     },
     "execution_count": 2,
     "metadata": {},
     "output_type": "execute_result"
    }
   ],
   "source": [
    "df = pd.read_csv('br_me_sic_transferencia.csv')\n",
    "df.head()"
   ]
  },
  {
   "cell_type": "code",
   "execution_count": 34,
   "metadata": {},
   "outputs": [
    {
     "data": {
      "text/plain": [
       "count    2.935400e+04\n",
       "mean     1.010271e+07\n",
       "std      1.232684e+08\n",
       "min     -6.284670e+08\n",
       "25%      0.000000e+00\n",
       "50%      8.878000e+01\n",
       "75%      5.015714e+05\n",
       "max      8.956496e+09\n",
       "Name: valor_custo_transferencia, dtype: float64"
      ]
     },
     "execution_count": 34,
     "metadata": {},
     "output_type": "execute_result"
    }
   ],
   "source": [
    "df[\"valor_custo_transferencia\"].describe()"
   ]
  },
  {
   "cell_type": "code",
   "execution_count": 3,
   "metadata": {},
   "outputs": [
    {
     "data": {
      "text/plain": [
       "<Axes: ylabel='valor_custo_transferencia'>"
      ]
     },
     "execution_count": 3,
     "metadata": {},
     "output_type": "execute_result"
    },
    {
     "data": {
      "image/png": "[encoded data removed]",
      "text/plain": [
       "<Figure size 640x480 with 1 Axes>"
      ]
     },
     "metadata": {},
     "output_type": "display_data"
    }
   ],
   "source": [
    "Q1 = df['valor_custo_transferencia'].quantile(0.25)\n",
    "Q3 = df['valor_custo_transferencia'].quantile(0.75)\n",
    "\n",
    "IQR = Q3 - Q1\n",
    "\n",
    "limite_inferior = Q1 - 1.5 * IQR \n",
    "limite_superior = Q3 - 1.5 * IQR\n",
    "\n",
    "df_filtrado = df[(df['valor_custo_transferencia'] >= limite_inferior) & (df['valor_custo_transferencia'] <= limite_superior)]\n",
    "\n",
    "sns.boxplot(y=df_filtrado['valor_custo_transferencia']) "
   ]
  },
  {
   "cell_type": "code",
   "execution_count": 18,
   "metadata": {},
   "outputs": [
    {
     "data": {
      "text/plain": [
       "valor_custo_transferencia\n",
       "0.00          14317\n",
       "1500.00         145\n",
       "500000.00       129\n",
       "300000.00       123\n",
       "100000.00       110\n",
       "              ...  \n",
       "344176.80         1\n",
       "312500.00         1\n",
       "95756.40          1\n",
       "35833.94          1\n",
       "5130042.70        1\n",
       "Name: count, Length: 12276, dtype: int64"
      ]
     },
     "execution_count": 18,
     "metadata": {},
     "output_type": "execute_result"
    }
   ],
   "source": [
    "df['valor_custo_transferencia'].value_counts()"
   ]
  },
  {
   "cell_type": "code",
   "execution_count": 38,
   "metadata": {},
   "outputs": [
    {
     "data": {
      "text/plain": [
       "np.float64(8956496242.53)"
      ]
     },
     "execution_count": 38,
     "metadata": {},
     "output_type": "execute_result"
    }
   ],
   "source": [
    "df['valor_custo_transferencia'].max()"
   ]
  },
  {
   "cell_type": "code",
   "execution_count": 22,
   "metadata": {},
   "outputs": [
    {
     "data": {
      "text/html": [
       "<div>\n",
       "<style scoped>\n",
       "    .dataframe tbody tr th:only-of-type {\n",
       "        vertical-align: middle;\n",
       "    }\n",
       "\n",
       "    .dataframe tbody tr th {\n",
       "        vertical-align: top;\n",
       "    }\n",
       "\n",
       "    .dataframe thead tr th {\n",
       "        text-align: left;\n",
       "    }\n",
       "\n",
       "    .dataframe thead tr:last-of-type th {\n",
       "        text-align: right;\n",
       "    }\n",
       "</style>\n",
       "<table border=\"1\" class=\"dataframe\">\n",
       "  <thead>\n",
       "    <tr>\n",
       "      <th></th>\n",
       "      <th>valor_custo_transferencia</th>\n",
       "    </tr>\n",
       "    <tr>\n",
       "      <th></th>\n",
       "      <th>mean</th>\n",
       "    </tr>\n",
       "    <tr>\n",
       "      <th>nome_unidade_organizacional_nivel_1</th>\n",
       "      <th></th>\n",
       "    </tr>\n",
       "  </thead>\n",
       "  <tbody>\n",
       "    <tr>\n",
       "      <th>ADVOCACIA-GERAL DA UNIAO</th>\n",
       "      <td>2.631454e+07</td>\n",
       "    </tr>\n",
       "    <tr>\n",
       "      <th>BANCO CENTRAL DO BRASIL</th>\n",
       "      <td>1.772628e+05</td>\n",
       "    </tr>\n",
       "    <tr>\n",
       "      <th>CASA CIVIL DA PRESIDENCIA DA REPUBLICA</th>\n",
       "      <td>9.211333e+05</td>\n",
       "    </tr>\n",
       "    <tr>\n",
       "      <th>CONTROLADORIA-GERAL DA UNIAO</th>\n",
       "      <td>2.943084e+05</td>\n",
       "    </tr>\n",
       "    <tr>\n",
       "      <th>GABINETE DE SEGURANCA INSTITUCIONAL DA PRESIDENCIA DA REPUBLICA</th>\n",
       "      <td>1.496777e+03</td>\n",
       "    </tr>\n",
       "    <tr>\n",
       "      <th>...</th>\n",
       "      <td>...</td>\n",
       "    </tr>\n",
       "    <tr>\n",
       "      <th>SECRETARIA DE COMUNICACAO SOCIAL DA PRESIDENCIA DA REPUBLICA</th>\n",
       "      <td>1.200000e+05</td>\n",
       "    </tr>\n",
       "    <tr>\n",
       "      <th>SECRETARIA DE GOVERNO DA PRESIDENCIA DA REPUBLICA</th>\n",
       "      <td>4.701691e+05</td>\n",
       "    </tr>\n",
       "    <tr>\n",
       "      <th>SECRETARIA DE PORTOS DA PRESIDENCIA DA REPUBLICA</th>\n",
       "      <td>1.454540e+03</td>\n",
       "    </tr>\n",
       "    <tr>\n",
       "      <th>SECRETARIA DO PROGRAMA DE PARCERIAS DE INVESTIMENTOS</th>\n",
       "      <td>2.698644e+04</td>\n",
       "    </tr>\n",
       "    <tr>\n",
       "      <th>SECRETARIA-GERAL DA PRESIDENCIA DA REPUBLICA</th>\n",
       "      <td>3.796238e+05</td>\n",
       "    </tr>\n",
       "  </tbody>\n",
       "</table>\n",
       "<p>72 rows × 1 columns</p>\n",
       "</div>"
      ],
      "text/plain": [
       "                                                   valor_custo_transferencia\n",
       "                                                                        mean\n",
       "nome_unidade_organizacional_nivel_1                                         \n",
       "ADVOCACIA-GERAL DA UNIAO                                        2.631454e+07\n",
       "BANCO CENTRAL DO BRASIL                                         1.772628e+05\n",
       "CASA CIVIL DA PRESIDENCIA DA REPUBLICA                          9.211333e+05\n",
       "CONTROLADORIA-GERAL DA UNIAO                                    2.943084e+05\n",
       "GABINETE DE SEGURANCA INSTITUCIONAL DA PRESIDEN...              1.496777e+03\n",
       "...                                                                      ...\n",
       "SECRETARIA DE COMUNICACAO SOCIAL DA PRESIDENCIA...              1.200000e+05\n",
       "SECRETARIA DE GOVERNO DA PRESIDENCIA DA REPUBLICA               4.701691e+05\n",
       "SECRETARIA DE PORTOS DA PRESIDENCIA DA REPUBLICA                1.454540e+03\n",
       "SECRETARIA DO PROGRAMA DE PARCERIAS DE INVESTIM...              2.698644e+04\n",
       "SECRETARIA-GERAL DA PRESIDENCIA DA REPUBLICA                    3.796238e+05\n",
       "\n",
       "[72 rows x 1 columns]"
      ]
     },
     "execution_count": 22,
     "metadata": {},
     "output_type": "execute_result"
    }
   ],
   "source": [
    "df.groupby('nome_unidade_organizacional_nivel_1').agg({'valor_custo_transferencia':['mean']})"
   ]
  },
  {
   "cell_type": "code",
   "execution_count": 22,
   "metadata": {},
   "outputs": [
    {
     "data": {
      "image/png": "[encoded data removed]",
      "text/plain": [
       "<Figure size 600x300 with 1 Axes>"
      ]
     },
     "metadata": {},
     "output_type": "display_data"
    }
   ],
   "source": [
    "# Converte a coluna 'ano' para string ou inteiro para garantir que só o ano seja mostrado\n",
    "df_agrupado['ano'] = df_agrupado['ano'].astype(int)\n",
    "\n",
    "# Plotando o gráfico com o eixo x apenas com o ano\n",
    "plt.figure(figsize=(6,3))\n",
    "plt.plot(df_agrupado['ano'], df_agrupado['valor_custo_transferencia'], marker='o')\n",
    "plt.title('Tendência dos Custos do Governo Federal ao Longo do Tempo')\n",
    "plt.xlabel('Ano')\n",
    "plt.ylabel('Custo Total')\n",
    "plt.grid()\n",
    "plt.xticks(df_agrupado['ano'])\n",
    "plt.show()\n"
   ]
  }
 ],
 "metadata": {
  "kernelspec": {
   "display_name": "Python 3",
   "language": "python",
   "name": "python3"
  },
  "language_info": {
   "codemirror_mode": {
    "name": "ipython",
    "version": 3
   },
   "file_extension": ".py",
   "mimetype": "text/x-python",
   "name": "python",
   "nbconvert_exporter": "python",
   "pygments_lexer": "ipython3",
   "version": "3.12.5"
  }
 },
 "nbformat": 4,
 "nbformat_minor": 2
}
